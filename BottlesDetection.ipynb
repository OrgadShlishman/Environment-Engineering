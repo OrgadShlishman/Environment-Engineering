{
  "cells": [
    {
      "cell_type": "markdown",
      "metadata": {
        "id": "view-in-github",
        "colab_type": "text"
      },
      "source": [
        "<a href=\"https://colab.research.google.com/github/OrgadShlishman/Environment-Engineering/blob/main/BottlesDetection.ipynb\" target=\"_parent\"><img src=\"https://colab.research.google.com/assets/colab-badge.svg\" alt=\"Open In Colab\"/></a>"
      ]
    },
    {
      "cell_type": "markdown",
      "metadata": {
        "id": "S0lbWq2vB0z9"
      },
      "source": [
        "## 1. Detecting bottles in trash and sharpening images:"
      ]
    },
    {
      "cell_type": "markdown",
      "metadata": {
        "id": "6J6oc_N2gS_W"
      },
      "source": [
        "#### 1.1 Setting up environment"
      ]
    },
    {
      "cell_type": "code",
      "execution_count": null,
      "metadata": {
        "id": "ekNTYlc6BxfS"
      },
      "outputs": [],
      "source": [
        "import torch\n",
        "from PIL import Image, ImageFilter\n",
        "\n",
        "!git clone https://github.com/ultralytics/yolov5.git\n"
      ]
    },
    {
      "cell_type": "markdown",
      "metadata": {
        "id": "GZXDjLLMgbbh"
      },
      "source": [
        "#### 1.2 Loading YOLO NN"
      ]
    },
    {
      "cell_type": "code",
      "execution_count": null,
      "metadata": {
        "id": "AIXOiPqogn6U"
      },
      "outputs": [],
      "source": [
        "model = torch.hub.load('ultralytics/yolov5', 'yolov5s')  # You can use 'yolov5m', 'yolov5l', or 'yolov5x' for larger models"
      ]
    },
    {
      "cell_type": "markdown",
      "metadata": {
        "id": "Xx5xb_5Ug-dM"
      },
      "source": [
        "#### 1.3 Auxilary Functions"
      ]
    },
    {
      "cell_type": "code",
      "execution_count": 8,
      "metadata": {
        "id": "PXNhaH5PB-xj"
      },
      "outputs": [],
      "source": [
        "def sharpen_image(image_path):\n",
        "    \"\"\"\n",
        "    Apply unsharp masking to an image.\n",
        "    \"\"\"\n",
        "    img = Image.open(image_path)\n",
        "    return img.filter(ImageFilter.UnsharpMask(radius=8, percent=160, threshold=5))\n",
        "\n",
        "def run_inference(image):\n",
        "    # Perform inference\n",
        "    results = model(image)\n",
        "    return results"
      ]
    },
    {
      "cell_type": "markdown",
      "metadata": {
        "id": "zG_lYnG6hMOM"
      },
      "source": [
        "#### 1.4 Adding testing images"
      ]
    },
    {
      "cell_type": "code",
      "execution_count": null,
      "metadata": {
        "id": "qQS6w0O_hQCg"
      },
      "outputs": [],
      "source": [
        "!wget -O /content/temp_image1.jpg 'https://media.npr.org/assets/img/2024/01/09/gettyimages-1258833682-bdd8ee9eddc072e4ffe6590b7e7c3a58cfe4f54a.jpg'\n",
        "!wget -O /content/temp_image2.jpg 'https://www.shutterstock.com/image-photo/plastic-bottle-on-street-blurry-260nw-1124703005.jpg'\n",
        "\n",
        "!wget -O /content/temp_image3.jpg 'https://www.shutterstock.com/shutterstock/photos/2112828356/display_1500/stock-photo-blurred-counter-has-a-wide-variety-of-liquor-bottles-that-are-sold-in-supermarkets-blur-bottles-of-2112828356.jpg'\n",
        "!wget -O /content/temp_image4.jpg 'https://images.stockcake.com/public/9/b/0/9b0615bc-e810-4a0d-a372-0ef2cd5a4f2a_large/filling-water-bottle-stockcake.jpg'\n",
        "\n",
        "# List of image paths\n",
        "image_paths = ['/content/temp_image1.jpg', '/content/temp_image2.jpg', '/content/temp_image3.jpg', '/content/temp_image4.jpg']"
      ]
    },
    {
      "cell_type": "markdown",
      "metadata": {
        "id": "py30EThxgsLL"
      },
      "source": [
        "#### 1.5 Running main code and displaying results\n"
      ]
    },
    {
      "cell_type": "markdown",
      "metadata": {
        "id": "JyxHCbb9jCVu"
      },
      "source": [
        "**In the following results one can see:**\n",
        "\n",
        "(1) Original Image shows better results than sharpened one\n",
        "\n",
        "(2) Original and sharpened results are the same\n",
        "\n",
        "(3) Original image detect few bottles, sharpened image detect more bottles\n",
        "\n",
        "(4) Original image doesn't detect the bottle, sharpened image detect it"
      ]
    },
    {
      "cell_type": "code",
      "execution_count": null,
      "metadata": {
        "id": "UZqv0xYlgxMk"
      },
      "outputs": [],
      "source": [
        "for img_path in image_paths:\n",
        "    print(f\"Processing image: {img_path}\")\n",
        "\n",
        "    # Display original image\n",
        "    # original_img = Image.open(img_path)\n",
        "    # display(original_img)\n",
        "\n",
        "    # Run inference on the original image\n",
        "    results = run_inference(img_path)\n",
        "    print(\"Inference on original image:\")\n",
        "    results.show()\n",
        "\n",
        "    # Sharpen the image\n",
        "    sharpened_img = sharpen_image(img_path)\n",
        "\n",
        "    # Save the sharpened image to a temporary path\n",
        "    sharpened_img_path = f'/{img_path[1:-4]}_sharp.jpg'\n",
        "    sharpened_img.save(sharpened_img_path)\n",
        "\n",
        "    # Display sharpened image\n",
        "    # print(f\"Processing sharpened image: {sharpened_img_path}\")\n",
        "    # display(sharpened_img)\n",
        "\n",
        "    # Run inference on the sharpened image\n",
        "    results = run_inference(sharpened_img_path)\n",
        "    print(\"Inference on sharpened image:\")\n",
        "    results.show()\n"
      ]
    }
  ],
  "metadata": {
    "colab": {
      "collapsed_sections": [
        "S0lbWq2vB0z9",
        "6J6oc_N2gS_W",
        "GZXDjLLMgbbh",
        "Xx5xb_5Ug-dM",
        "zG_lYnG6hMOM",
        "py30EThxgsLL",
        "JyxHCbb9jCVu"
      ],
      "provenance": [],
      "authorship_tag": "ABX9TyMbYYYUcBV8pJUUGll1yu4A",
      "include_colab_link": true
    },
    "kernelspec": {
      "display_name": "Python 3",
      "name": "python3"
    },
    "language_info": {
      "name": "python"
    }
  },
  "nbformat": 4,
  "nbformat_minor": 0
}